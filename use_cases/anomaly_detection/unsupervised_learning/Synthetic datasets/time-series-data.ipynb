{
 "cells": [
  {
   "cell_type": "code",
   "execution_count": 1,
   "id": "16d4d0e2",
   "metadata": {},
   "outputs": [],
   "source": [
    "import numpy as np\n",
    "import pandas as pd\n",
    "import matplotlib.pyplot as plt"
   ]
  },
  {
   "cell_type": "code",
   "execution_count": 3,
   "id": "35208454",
   "metadata": {},
   "outputs": [
    {
     "data": {
      "application/vnd.microsoft.datawrangler.viewer.v0+json": {
       "columns": [
        {
         "name": "index",
         "rawType": "int64",
         "type": "integer"
        },
        {
         "name": "date",
         "rawType": "datetime64[ns]",
         "type": "datetime"
        },
        {
         "name": "value",
         "rawType": "float64",
         "type": "float"
        }
       ],
       "ref": "22d7961e-95de-4efd-aa61-6d22686ae6f0",
       "rows": [
        [
         "0",
         "2023-01-01 00:00:00",
         "0.04967141530112327"
        ],
        [
         "1",
         "2023-01-02 00:00:00",
         "0.003434210788270031"
        ],
        [
         "2",
         "2023-01-03 00:00:00",
         "0.09928499277977737"
        ],
        [
         "3",
         "2023-01-04 00:00:00",
         "0.20406433852501193"
        ],
        [
         "4",
         "2023-01-05 00:00:00",
         "0.04557580693199133"
        ],
        [
         "5",
         "2023-01-06 00:00:00",
         "0.06278668418570135"
        ],
        [
         "6",
         "2023-01-07 00:00:00",
         "0.2613052133391093"
        ],
        [
         "7",
         "2023-01-08 00:00:00",
         "0.19728015317061393"
        ],
        [
         "8",
         "2023-01-09 00:00:00",
         "0.090706075993673"
        ],
        [
         "9",
         "2023-01-10 00:00:00",
         "0.20898533914887768"
        ],
        [
         "10",
         "2023-01-11 00:00:00",
         "0.1254172838100298"
        ],
        [
         "11",
         "2023-01-12 00:00:00",
         "0.14216462009589098"
        ],
        [
         "12",
         "2023-01-13 00:00:00",
         "0.22985613024253998"
        ],
        [
         "13",
         "2023-01-14 00:00:00",
         "0.031192909490534604"
        ],
        [
         "14",
         "2023-01-15 00:00:00",
         "0.06682388103625445"
        ],
        [
         "15",
         "2023-01-16 00:00:00",
         "5.199810337133449"
        ],
        [
         "16",
         "2023-01-17 00:00:00",
         "0.17140311645605139"
        ],
        [
         "17",
         "2023-01-18 00:00:00",
         "0.32067685279609504"
        ],
        [
         "18",
         "2023-01-19 00:00:00",
         "0.21492941980763175"
        ],
        [
         "19",
         "2023-01-20 00:00:00",
         "0.18089007166496143"
        ],
        [
         "20",
         "2023-01-21 00:00:00",
         "0.4849779567258259"
        ],
        [
         "21",
         "2023-01-22 00:00:00",
         "0.332027256993882"
        ],
        [
         "22",
         "2023-01-23 00:00:00",
         "0.3774438595138599"
        ],
        [
         "23",
         "2023-01-24 00:00:00",
         "0.24419192432007317"
        ],
        [
         "24",
         "2023-01-25 00:00:00",
         "0.34808896628744923"
        ],
        [
         "25",
         "2023-01-26 00:00:00",
         "0.4293600597465517"
        ],
        [
         "26",
         "2023-01-27 00:00:00",
         "5.318784381375328"
        ],
        [
         "27",
         "2023-01-28 00:00:00",
         "0.4869402028017285"
        ],
        [
         "28",
         "2023-01-29 00:00:00",
         "0.404659303051888"
        ],
        [
         "29",
         "2023-01-30 00:00:00",
         "0.45076810298045855"
        ],
        [
         "30",
         "2023-01-31 00:00:00",
         "0.4348381243606417"
        ],
        [
         "31",
         "2023-02-01 00:00:00",
         "5.695160422841029"
        ],
        [
         "32",
         "2023-02-02 00:00:00",
         "0.5233547653252146"
        ],
        [
         "33",
         "2023-02-03 00:00:00",
         "0.43354894160360913"
        ],
        [
         "34",
         "2023-02-04 00:00:00",
         "0.636029380970852"
        ],
        [
         "35",
         "2023-02-05 00:00:00",
         "0.4459803817340536"
        ],
        [
         "36",
         "2023-02-06 00:00:00",
         "0.6030717072212463"
        ],
        [
         "37",
         "2023-02-07 00:00:00",
         "0.4001654730812477"
        ],
        [
         "38",
         "2023-02-08 00:00:00",
         "0.4770833995102297"
        ],
        [
         "39",
         "2023-02-09 00:00:00",
         "0.6431759254456458"
        ],
        [
         "40",
         "2023-02-10 00:00:00",
         "0.7107384873344302"
        ],
        [
         "41",
         "2023-02-11 00:00:00",
         "0.6672409217877413"
        ],
        [
         "42",
         "2023-02-12 00:00:00",
         "0.651557830001971"
        ],
        [
         "43",
         "2023-02-13 00:00:00",
         "0.6458332745858254"
        ],
        [
         "44",
         "2023-02-14 00:00:00",
         "0.5407110323065343"
        ],
        [
         "45",
         "2023-02-15 00:00:00",
         "0.6289932389666785"
        ],
        [
         "46",
         "2023-02-16 00:00:00",
         "0.6671193535346174"
        ],
        [
         "47",
         "2023-02-17 00:00:00",
         "0.8308885297652681"
        ],
        [
         "48",
         "2023-02-18 00:00:00",
         "0.7713151449411828"
        ],
        [
         "49",
         "2023-02-19 00:00:00",
         "0.5722067326348277"
        ]
       ],
       "shape": {
        "columns": 2,
        "rows": 365
       }
      },
      "text/html": [
       "<div>\n",
       "<style scoped>\n",
       "    .dataframe tbody tr th:only-of-type {\n",
       "        vertical-align: middle;\n",
       "    }\n",
       "\n",
       "    .dataframe tbody tr th {\n",
       "        vertical-align: top;\n",
       "    }\n",
       "\n",
       "    .dataframe thead th {\n",
       "        text-align: right;\n",
       "    }\n",
       "</style>\n",
       "<table border=\"1\" class=\"dataframe\">\n",
       "  <thead>\n",
       "    <tr style=\"text-align: right;\">\n",
       "      <th></th>\n",
       "      <th>date</th>\n",
       "      <th>value</th>\n",
       "    </tr>\n",
       "  </thead>\n",
       "  <tbody>\n",
       "    <tr>\n",
       "      <th>0</th>\n",
       "      <td>2023-01-01</td>\n",
       "      <td>0.049671</td>\n",
       "    </tr>\n",
       "    <tr>\n",
       "      <th>1</th>\n",
       "      <td>2023-01-02</td>\n",
       "      <td>0.003434</td>\n",
       "    </tr>\n",
       "    <tr>\n",
       "      <th>2</th>\n",
       "      <td>2023-01-03</td>\n",
       "      <td>0.099285</td>\n",
       "    </tr>\n",
       "    <tr>\n",
       "      <th>3</th>\n",
       "      <td>2023-01-04</td>\n",
       "      <td>0.204064</td>\n",
       "    </tr>\n",
       "    <tr>\n",
       "      <th>4</th>\n",
       "      <td>2023-01-05</td>\n",
       "      <td>0.045576</td>\n",
       "    </tr>\n",
       "    <tr>\n",
       "      <th>...</th>\n",
       "      <td>...</td>\n",
       "      <td>...</td>\n",
       "    </tr>\n",
       "    <tr>\n",
       "      <th>360</th>\n",
       "      <td>2023-12-27</td>\n",
       "      <td>-0.017056</td>\n",
       "    </tr>\n",
       "    <tr>\n",
       "      <th>361</th>\n",
       "      <td>2023-12-28</td>\n",
       "      <td>0.101513</td>\n",
       "    </tr>\n",
       "    <tr>\n",
       "      <th>362</th>\n",
       "      <td>2023-12-29</td>\n",
       "      <td>-5.045392</td>\n",
       "    </tr>\n",
       "    <tr>\n",
       "      <th>363</th>\n",
       "      <td>2023-12-30</td>\n",
       "      <td>0.022911</td>\n",
       "    </tr>\n",
       "    <tr>\n",
       "      <th>364</th>\n",
       "      <td>2023-12-31</td>\n",
       "      <td>0.069014</td>\n",
       "    </tr>\n",
       "  </tbody>\n",
       "</table>\n",
       "<p>365 rows × 2 columns</p>\n",
       "</div>"
      ],
      "text/plain": [
       "          date     value\n",
       "0   2023-01-01  0.049671\n",
       "1   2023-01-02  0.003434\n",
       "2   2023-01-03  0.099285\n",
       "3   2023-01-04  0.204064\n",
       "4   2023-01-05  0.045576\n",
       "..         ...       ...\n",
       "360 2023-12-27 -0.017056\n",
       "361 2023-12-28  0.101513\n",
       "362 2023-12-29 -5.045392\n",
       "363 2023-12-30  0.022911\n",
       "364 2023-12-31  0.069014\n",
       "\n",
       "[365 rows x 2 columns]"
      ]
     },
     "execution_count": 3,
     "metadata": {},
     "output_type": "execute_result"
    }
   ],
   "source": [
    "\n",
    "\n",
    "# Set random seed for reproducibility\n",
    "np.random.seed(42)\n",
    "\n",
    "# Create a time series of 365 days (one year)\n",
    "days = pd.date_range(start='2023-01-01', periods=365, freq='D')\n",
    "\n",
    "# Generate normal data (sinusoidal trend with some noise)\n",
    "normal_data = np.sin(np.linspace(0, 2 * np.pi, 365)) + np.random.normal(0, 0.1, 365)\n",
    "\n",
    "# Introduce anomalies by adding random large spikes or dips\n",
    "anomalies = np.zeros_like(normal_data)\n",
    "anomaly_indices = np.random.choice(range(365), size=15, replace=False)\n",
    "anomalies[anomaly_indices] = np.random.choice([-5, 5], size=15)\n",
    "\n",
    "# Combine normal data and anomalies\n",
    "data_with_anomalies = normal_data + anomalies\n",
    "\n",
    "# Create a DataFrame for easy manipulation\n",
    "df = pd.DataFrame({\n",
    "    'date': days,\n",
    "    'value': data_with_anomalies\n",
    "})\n",
    "\n",
    "df"
   ]
  },
  {
   "cell_type": "code",
   "execution_count": 5,
   "id": "6a2aed2b",
   "metadata": {},
   "outputs": [
    {
     "data": {
      "text/plain": [
       "array([ 0.04967142,  0.00343421,  0.09928499,  0.20406434,  0.04557581,\n",
       "        0.06278668,  0.26130521,  0.19728015,  0.09070608,  0.20898534,\n",
       "        0.12541728,  0.14216462,  0.22985613,  0.03119291,  0.06682388,\n",
       "        0.19981034,  0.17140312,  0.32067685,  0.21492942,  0.18089007,\n",
       "        0.48497796,  0.33202726,  0.37744386,  0.24419192,  0.34808897,\n",
       "        0.42936006,  0.31878438,  0.4869402 ,  0.4046593 ,  0.4507681 ,\n",
       "        0.43483812,  0.69516042,  0.52335477,  0.43354894,  0.63602938,\n",
       "        0.44598038,  0.60307171,  0.40016547,  0.4770834 ,  0.64317593,\n",
       "        0.71073849,  0.66724092,  0.65155783,  0.64583327,  0.54071103,\n",
       "        0.62899324,  0.66711935,  0.83088853,  0.77131514,  0.57220673,\n",
       "        0.79225356,  0.73244495,  0.71413928,  0.85364447,  0.90598603,\n",
       "        0.90618411,  0.73906211,  0.80174519,  0.87522723,  0.94883895,\n",
       "        0.81229693,  0.85032207,  0.7666692 ,  0.76583536,  0.97459812,\n",
       "        1.03659287,  0.90112274,  1.0157613 ,  0.95838312,  0.86424426,\n",
       "        0.9711558 ,  1.09480131,  0.94311609,  1.10858203,  0.69527844,\n",
       "        1.04429327,  0.97537114,  0.94104108,  0.98410399,  0.77986663,\n",
       "        0.96006037,  1.02085025,  1.1357463 ,  0.93865342,  0.91185951,\n",
       "        0.94446582,  1.08781803,  1.03049238,  0.94568346,  1.05073088,\n",
       "        1.00955878,  1.0968645 ,  0.92964571,  0.96663793,  0.95944867,\n",
       "        0.85126578,  1.02588985,  1.02074705,  0.99322022,  0.96702173,\n",
       "        0.84641982,  0.94307446,  0.9477561 ,  0.8983958 ,  0.95879934,\n",
       "        1.0113469 ,  1.15528502,  0.9795608 ,  0.98300799,  0.94467307,\n",
       "        0.75482157,  0.93834627,  0.94103926,  1.17508045,  0.90298342,\n",
       "        0.94556274,  0.90485258,  0.78410106,  1.00762782,  0.96064933,\n",
       "        0.95640589,  0.77794922,  1.00049379,  0.71109934,  0.90078659,\n",
       "        1.05171199,  0.72393023,  0.75642633,  0.81285122,  0.74212928,\n",
       "        0.62676514,  0.77780947,  0.65361479,  0.79586999,  0.64501089,\n",
       "        0.88016975,  0.6348579 ,  0.66877151,  0.76991495,  0.55285721,\n",
       "        0.68586865,  0.78081837,  0.47614351,  0.64195319,  0.63589028,\n",
       "        0.67431477,  0.45849028,  0.43601909,  0.60596905,  0.5690185 ,\n",
       "        0.54975377,  0.54457743,  0.42700631,  0.50316285,  0.49403042,\n",
       "        0.37793526,  0.62046119,  0.46565109,  0.28339689,  0.4523221 ,\n",
       "        0.27322287,  0.43331335,  0.45427264,  0.24005221,  0.40206944,\n",
       "        0.33053021,  0.35489224,  0.44571839,  0.21477685,  0.14714732,\n",
       "        0.11670846,  0.10715657,  0.16404888,  0.18884453,  0.16532259,\n",
       "        0.20325501,  0.10468412,  0.23155379,  0.04252546,  0.32377827,\n",
       "        0.09708287, -0.06845511, -0.10708925,  0.0309866 , -0.05686242,\n",
       "        0.0196387 , -0.02166738, -0.09348327, -0.1880633 , -0.2720214 ,\n",
       "       -0.18230501, -0.06908946, -0.15034968, -0.31331147, -0.18834181,\n",
       "       -0.1839892 , -0.32770141, -0.24066658, -0.26686536, -0.40354915,\n",
       "       -0.26995309, -0.26604199, -0.23010796, -0.24922468, -0.50845798,\n",
       "       -0.48044925, -0.35102371, -0.36688921, -0.38237897, -0.06409725,\n",
       "       -0.40763412, -0.36638091, -0.39960861, -0.44479348, -0.55623141,\n",
       "       -0.46342311, -0.63105741, -0.59174661, -0.6307217 , -0.58794507,\n",
       "       -0.37843615, -0.81021632, -0.56826581, -0.81137568, -0.71031584,\n",
       "       -0.56704858, -0.68213523, -0.80875214, -0.7847136 , -0.65721653,\n",
       "       -0.80998998, -0.72686489, -0.75528798, -0.83611321, -0.56743707,\n",
       "       -0.72908494, -1.00540034, -0.79441067, -0.88916251, -0.74742309,\n",
       "       -0.92135296, -0.86275809, -0.80971563, -0.78231245, -0.99733233,\n",
       "       -0.91890615, -0.94084006, -0.96630179, -0.73177833, -0.87490984,\n",
       "       -1.04830791, -0.83697005, -0.72280062, -0.83775113, -1.09863569,\n",
       "       -1.00054107, -0.83056184, -1.03286997, -0.92228449, -0.89347841,\n",
       "       -1.06762096, -0.98457606, -1.30615429, -1.08757775, -1.01321371,\n",
       "       -1.11525876, -0.82946774, -1.13765566, -1.04028227, -0.98454321,\n",
       "       -0.85453215, -1.14299036, -0.88353465, -0.99897669, -1.09800189,\n",
       "       -0.95319379, -0.97875351, -1.05763896, -0.98929761, -1.03317288,\n",
       "       -0.98135714, -0.92426738, -0.82935522, -1.10892054, -0.76872422,\n",
       "       -1.17383231, -0.99010642, -0.9121101 , -0.93856724, -1.02437297,\n",
       "       -0.97806518, -1.00141776, -1.00563517, -0.85603745, -0.89931469,\n",
       "       -0.9980472 , -0.83225953, -0.88467806, -0.82703754, -0.83800598,\n",
       "       -0.97624503, -0.94147413, -0.80257333, -0.80785094, -0.86230452,\n",
       "       -0.8395517 , -0.7143344 , -0.89182356, -0.76827413, -0.83327536,\n",
       "       -0.8246542 , -0.68259916, -0.69928985, -0.68960221, -0.62929728,\n",
       "       -0.74641036, -0.66875802, -0.75620298, -0.6807666 , -0.71399197,\n",
       "       -0.67886363, -0.61642794, -0.74494473, -0.44086537, -0.73749357,\n",
       "       -0.74490866, -0.49409092, -0.51696622, -0.51977337, -0.5052302 ,\n",
       "       -0.55499957, -0.62904547, -0.51712403, -0.57764878, -0.39749681,\n",
       "       -0.49464322, -0.54727289, -0.48150899, -0.39259059, -0.47464026,\n",
       "       -0.48474928, -0.36229802, -0.34619438, -0.4052992 , -0.38551691,\n",
       "       -0.29891545, -0.45054026, -0.4299985 , -0.34453065, -0.27738381,\n",
       "       -0.20822491, -0.07498531, -0.11989394, -0.20473145, -0.17366067,\n",
       "       -0.25498227, -0.13950483, -0.14940254, -0.07111208, -0.16892347,\n",
       "       -0.01705649,  0.10151254, -0.04539215,  0.02291053,  0.0690144 ])"
      ]
     },
     "execution_count": 5,
     "metadata": {},
     "output_type": "execute_result"
    }
   ],
   "source": [
    "normal_data"
   ]
  },
  {
   "cell_type": "code",
   "execution_count": 6,
   "id": "ee0ab547",
   "metadata": {},
   "outputs": [
    {
     "data": {
      "text/plain": [
       "array([ 0.,  0.,  0.,  0.,  0.,  0.,  0.,  0.,  0.,  0.,  0.,  0.,  0.,\n",
       "        0.,  0.,  5.,  0.,  0.,  0.,  0.,  0.,  0.,  0.,  0.,  0.,  0.,\n",
       "        5.,  0.,  0.,  0.,  0.,  5.,  0.,  0.,  0.,  0.,  0.,  0.,  0.,\n",
       "        0.,  0.,  0.,  0.,  0.,  0.,  0.,  0.,  0.,  0.,  0.,  0.,  0.,\n",
       "        0.,  0.,  0.,  0.,  0.,  0.,  0.,  0.,  0.,  0.,  0.,  0.,  0.,\n",
       "        0.,  0.,  0.,  0.,  0.,  5.,  0.,  0.,  0.,  0.,  0.,  0.,  0.,\n",
       "        0.,  0.,  0.,  0.,  0.,  0.,  0.,  0.,  0.,  0.,  0.,  0.,  0.,\n",
       "        0.,  0.,  0.,  0.,  0.,  0.,  0.,  0.,  0.,  0.,  0.,  0.,  0.,\n",
       "        0.,  0.,  0.,  0.,  0., -5.,  0.,  0.,  0.,  0.,  0.,  0.,  0.,\n",
       "        0.,  0.,  0.,  0.,  0., -5.,  0.,  0.,  0.,  0.,  0.,  0.,  0.,\n",
       "        0.,  0.,  0.,  0.,  5.,  0.,  0.,  0.,  0.,  0.,  0.,  0.,  0.,\n",
       "        0.,  0.,  0.,  0.,  0.,  0.,  0.,  0.,  0.,  0.,  0.,  0.,  0.,\n",
       "        0.,  0.,  0.,  0.,  0.,  0.,  0.,  0.,  0.,  0.,  0.,  0.,  0.,\n",
       "        0.,  0.,  0.,  0.,  0.,  0.,  0.,  0.,  0.,  0.,  0.,  0.,  0.,\n",
       "        0.,  0.,  0.,  0., -5.,  0.,  0.,  0.,  0.,  0.,  0.,  0.,  0.,\n",
       "        0.,  0.,  5.,  0.,  5.,  0.,  0.,  0.,  0.,  0.,  0.,  0.,  0.,\n",
       "        0.,  0.,  0.,  0.,  0.,  0.,  0.,  0.,  0.,  0.,  0.,  0.,  0.,\n",
       "        0.,  0.,  0.,  0.,  0.,  0.,  0.,  0.,  0.,  0.,  0.,  0.,  0.,\n",
       "        0.,  0.,  0.,  0.,  0.,  0.,  0.,  0.,  0.,  0.,  0.,  0.,  0.,\n",
       "        0.,  5.,  0.,  0.,  0.,  0.,  0.,  0.,  0.,  0.,  0.,  0.,  0.,\n",
       "        0.,  0.,  0.,  0.,  0.,  0.,  0.,  0.,  0.,  0.,  0.,  0.,  0.,\n",
       "        0.,  0.,  0.,  0.,  0.,  0.,  0.,  0.,  0.,  0.,  0., -5.,  0.,\n",
       "        0.,  0.,  0.,  0.,  0.,  0.,  0.,  0.,  0.,  0.,  0.,  5.,  0.,\n",
       "        0.,  0.,  0.,  0.,  0.,  0.,  0.,  0.,  0.,  0.,  0.,  0.,  0.,\n",
       "        0.,  0.,  0.,  0.,  0.,  0.,  0.,  0.,  0.,  0.,  0.,  0.,  0.,\n",
       "       -5.,  0.,  0.,  0.,  0.,  0.,  0.,  0.,  0.,  0.,  0.,  0.,  0.,\n",
       "        0.,  0.,  0.,  0.,  0.,  0.,  0.,  0.,  0.,  0.,  0.,  0.,  0.,\n",
       "        0.,  0.,  0.,  0.,  0.,  0.,  0.,  0.,  0.,  0.,  0., -5.,  0.,\n",
       "        0.])"
      ]
     },
     "execution_count": 6,
     "metadata": {},
     "output_type": "execute_result"
    }
   ],
   "source": [
    "anomalies"
   ]
  },
  {
   "cell_type": "code",
   "execution_count": 4,
   "id": "c2477a62",
   "metadata": {},
   "outputs": [
    {
     "data": {
      "image/png": "[encoded data removed]",
      "text/plain": [
       "<Figure size 1000x600 with 1 Axes>"
      ]
     },
     "metadata": {},
     "output_type": "display_data"
    }
   ],
   "source": [
    "# Plotting the time series with anomalies\n",
    "plt.figure(figsize=(10, 6))\n",
    "plt.plot(df['date'], df['value'], label='Time Series with Anomalies')\n",
    "plt.scatter(df['date'][anomaly_indices], df['value'][anomaly_indices], color='red', label='Anomalies')\n",
    "plt.title('Time Series with Anomalies')\n",
    "plt.xlabel('Date')\n",
    "plt.ylabel('Value')\n",
    "plt.legend()\n",
    "plt.show()"
   ]
  }
 ],
 "metadata": {
  "kernelspec": {
   "display_name": "Python 3 (ipykernel)",
   "language": "python",
   "name": "python3"
  },
  "language_info": {
   "codemirror_mode": {
    "name": "ipython",
    "version": 3
   },
   "file_extension": ".py",
   "mimetype": "text/x-python",
   "name": "python",
   "nbconvert_exporter": "python",
   "pygments_lexer": "ipython3",
   "version": "3.12.7"
  }
 },
 "nbformat": 4,
 "nbformat_minor": 5
}
