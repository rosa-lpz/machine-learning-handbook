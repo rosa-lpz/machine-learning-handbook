{
 "cells": [
  {
   "cell_type": "code",
   "execution_count": null,
   "id": "c9d99db6",
   "metadata": {},
   "outputs": [
    {
     "name": "stdout",
     "output_type": "stream",
     "text": [
      "Confusion Matrix:\n",
      "[[96  4]\n",
      " [ 3  7]]\n",
      "\n",
      "Classification Report:\n",
      "              precision    recall  f1-score   support\n",
      "\n",
      "           0       0.97      0.96      0.96       100\n",
      "           1       0.64      0.70      0.67        10\n",
      "\n",
      "    accuracy                           0.94       110\n",
      "   macro avg       0.80      0.83      0.82       110\n",
      "weighted avg       0.94      0.94      0.94       110\n",
      "\n"
     ]
    }
   ],
   "source": [
    "import numpy as np\n",
    "import pandas as pd\n",
    "from sklearn.ensemble import IsolationForest\n",
    "from sklearn.metrics import confusion_matrix, classification_report\n",
    "from sklearn.model_selection import train_test_split"
   ]
  },
  {
   "cell_type": "code",
   "execution_count": null,
   "id": "bd3d546b",
   "metadata": {},
   "outputs": [],
   "source": [
    "# Step 1: Generate synthetic data\n",
    "# Generating 100 normal points (2 features) and 10 anomalous points\n",
    "np.random.seed(42)\n",
    "normal_data = np.random.normal(loc=0, scale=1, size=(100, 2))  # 100 normal points\n",
    "anomaly_data = np.random.uniform(low=-4, high=4, size=(10, 2))  # 10 anomalous points"
   ]
  },
  {
   "cell_type": "code",
   "execution_count": null,
   "id": "50206aef",
   "metadata": {},
   "outputs": [
    {
     "data": {
      "text/plain": [
       "array([[ 0.49671415, -0.1382643 ],\n",
       "       [ 0.64768854,  1.52302986],\n",
       "       [-0.23415337, -0.23413696],\n",
       "       [ 1.57921282,  0.76743473],\n",
       "       [-0.46947439,  0.54256004],\n",
       "       [-0.46341769, -0.46572975],\n",
       "       [ 0.24196227, -1.91328024],\n",
       "       [-1.72491783, -0.56228753],\n",
       "       [-1.01283112,  0.31424733],\n",
       "       [-0.90802408, -1.4123037 ],\n",
       "       [ 1.46564877, -0.2257763 ],\n",
       "       [ 0.0675282 , -1.42474819],\n",
       "       [-0.54438272,  0.11092259],\n",
       "       [-1.15099358,  0.37569802],\n",
       "       [-0.60063869, -0.29169375],\n",
       "       [-0.60170661,  1.85227818],\n",
       "       [-0.01349722, -1.05771093],\n",
       "       [ 0.82254491, -1.22084365],\n",
       "       [ 0.2088636 , -1.95967012],\n",
       "       [-1.32818605,  0.19686124],\n",
       "       [ 0.73846658,  0.17136828],\n",
       "       [-0.11564828, -0.3011037 ],\n",
       "       [-1.47852199, -0.71984421],\n",
       "       [-0.46063877,  1.05712223],\n",
       "       [ 0.34361829, -1.76304016],\n",
       "       [ 0.32408397, -0.38508228],\n",
       "       [-0.676922  ,  0.61167629],\n",
       "       [ 1.03099952,  0.93128012],\n",
       "       [-0.83921752, -0.30921238],\n",
       "       [ 0.33126343,  0.97554513],\n",
       "       [-0.47917424, -0.18565898],\n",
       "       [-1.10633497, -1.19620662],\n",
       "       [ 0.81252582,  1.35624003],\n",
       "       [-0.07201012,  1.0035329 ],\n",
       "       [ 0.36163603, -0.64511975],\n",
       "       [ 0.36139561,  1.53803657],\n",
       "       [-0.03582604,  1.56464366],\n",
       "       [-2.6197451 ,  0.8219025 ],\n",
       "       [ 0.08704707, -0.29900735],\n",
       "       [ 0.09176078, -1.98756891],\n",
       "       [-0.21967189,  0.35711257],\n",
       "       [ 1.47789404, -0.51827022],\n",
       "       [-0.8084936 , -0.50175704],\n",
       "       [ 0.91540212,  0.32875111],\n",
       "       [-0.5297602 ,  0.51326743],\n",
       "       [ 0.09707755,  0.96864499],\n",
       "       [-0.70205309, -0.32766215],\n",
       "       [-0.39210815, -1.46351495],\n",
       "       [ 0.29612028,  0.26105527],\n",
       "       [ 0.00511346, -0.23458713],\n",
       "       [-1.41537074, -0.42064532],\n",
       "       [-0.34271452, -0.80227727],\n",
       "       [-0.16128571,  0.40405086],\n",
       "       [ 1.8861859 ,  0.17457781],\n",
       "       [ 0.25755039, -0.07444592],\n",
       "       [-1.91877122, -0.02651388],\n",
       "       [ 0.06023021,  2.46324211],\n",
       "       [-0.19236096,  0.30154734],\n",
       "       [-0.03471177, -1.16867804],\n",
       "       [ 1.14282281,  0.75193303],\n",
       "       [ 0.79103195, -0.90938745],\n",
       "       [ 1.40279431, -1.40185106],\n",
       "       [ 0.58685709,  2.19045563],\n",
       "       [-0.99053633, -0.56629773],\n",
       "       [ 0.09965137, -0.50347565],\n",
       "       [-1.55066343,  0.06856297],\n",
       "       [-1.06230371,  0.47359243],\n",
       "       [-0.91942423,  1.54993441],\n",
       "       [-0.78325329, -0.32206152],\n",
       "       [ 0.81351722, -1.23086432],\n",
       "       [ 0.22745993,  1.30714275],\n",
       "       [-1.60748323,  0.18463386],\n",
       "       [ 0.25988279,  0.78182287],\n",
       "       [-1.23695071, -1.32045661],\n",
       "       [ 0.52194157,  0.29698467],\n",
       "       [ 0.25049285,  0.34644821],\n",
       "       [-0.68002472,  0.2322537 ],\n",
       "       [ 0.29307247, -0.71435142],\n",
       "       [ 1.86577451,  0.47383292],\n",
       "       [-1.1913035 ,  0.65655361],\n",
       "       [-0.97468167,  0.7870846 ],\n",
       "       [ 1.15859558, -0.82068232],\n",
       "       [ 0.96337613,  0.41278093],\n",
       "       [ 0.82206016,  1.89679298],\n",
       "       [-0.24538812, -0.75373616],\n",
       "       [-0.88951443, -0.81581028],\n",
       "       [-0.07710171,  0.34115197],\n",
       "       [ 0.2766908 ,  0.82718325],\n",
       "       [ 0.01300189,  1.45353408],\n",
       "       [-0.26465683,  2.72016917],\n",
       "       [ 0.62566735, -0.85715756],\n",
       "       [-1.0708925 ,  0.48247242],\n",
       "       [-0.22346279,  0.71400049],\n",
       "       [ 0.47323762, -0.07282891],\n",
       "       [-0.84679372, -1.51484722],\n",
       "       [-0.44651495,  0.85639879],\n",
       "       [ 0.21409374, -1.24573878],\n",
       "       [ 0.17318093,  0.38531738],\n",
       "       [-0.88385744,  0.15372511],\n",
       "       [ 0.05820872, -1.1429703 ]])"
      ]
     },
     "execution_count": 3,
     "metadata": {},
     "output_type": "execute_result"
    }
   ],
   "source": [
    "# normal_data has 100 rows and 2 columns (100 normal data points)\n",
    "normal_data"
   ]
  },
  {
   "cell_type": "code",
   "execution_count": null,
   "id": "f0d19d60",
   "metadata": {},
   "outputs": [
    {
     "data": {
      "text/plain": [
       "array([[ 3.01898458,  1.92614894],\n",
       "       [ 1.57612593,  1.61987267],\n",
       "       [-1.12407079, -1.65126525],\n",
       "       [ 2.47488924,  2.48090716],\n",
       "       [ 2.93657855,  3.30592442],\n",
       "       [ 0.09073919,  0.01213036],\n",
       "       [ 2.38636143,  1.19971145],\n",
       "       [ 1.61573502,  2.36634136],\n",
       "       [ 3.12004273, -1.29603875],\n",
       "       [-0.99533638, -3.24814448]])"
      ]
     },
     "execution_count": 4,
     "metadata": {},
     "output_type": "execute_result"
    }
   ],
   "source": [
    "# Anomaly_data has 10 rows and 2 columns (10 anomalous data points)\"\n",
    "anomaly_data"
   ]
  },
  {
   "cell_type": "code",
   "execution_count": null,
   "id": "8dd9bb4b",
   "metadata": {},
   "outputs": [
    {
     "data": {
      "text/plain": [
       "array([[ 0.49671415, -0.1382643 ],\n",
       "       [ 0.64768854,  1.52302986],\n",
       "       [-0.23415337, -0.23413696],\n",
       "       [ 1.57921282,  0.76743473],\n",
       "       [-0.46947439,  0.54256004],\n",
       "       [-0.46341769, -0.46572975],\n",
       "       [ 0.24196227, -1.91328024],\n",
       "       [-1.72491783, -0.56228753],\n",
       "       [-1.01283112,  0.31424733],\n",
       "       [-0.90802408, -1.4123037 ],\n",
       "       [ 1.46564877, -0.2257763 ],\n",
       "       [ 0.0675282 , -1.42474819],\n",
       "       [-0.54438272,  0.11092259],\n",
       "       [-1.15099358,  0.37569802],\n",
       "       [-0.60063869, -0.29169375],\n",
       "       [-0.60170661,  1.85227818],\n",
       "       [-0.01349722, -1.05771093],\n",
       "       [ 0.82254491, -1.22084365],\n",
       "       [ 0.2088636 , -1.95967012],\n",
       "       [-1.32818605,  0.19686124],\n",
       "       [ 0.73846658,  0.17136828],\n",
       "       [-0.11564828, -0.3011037 ],\n",
       "       [-1.47852199, -0.71984421],\n",
       "       [-0.46063877,  1.05712223],\n",
       "       [ 0.34361829, -1.76304016],\n",
       "       [ 0.32408397, -0.38508228],\n",
       "       [-0.676922  ,  0.61167629],\n",
       "       [ 1.03099952,  0.93128012],\n",
       "       [-0.83921752, -0.30921238],\n",
       "       [ 0.33126343,  0.97554513],\n",
       "       [-0.47917424, -0.18565898],\n",
       "       [-1.10633497, -1.19620662],\n",
       "       [ 0.81252582,  1.35624003],\n",
       "       [-0.07201012,  1.0035329 ],\n",
       "       [ 0.36163603, -0.64511975],\n",
       "       [ 0.36139561,  1.53803657],\n",
       "       [-0.03582604,  1.56464366],\n",
       "       [-2.6197451 ,  0.8219025 ],\n",
       "       [ 0.08704707, -0.29900735],\n",
       "       [ 0.09176078, -1.98756891],\n",
       "       [-0.21967189,  0.35711257],\n",
       "       [ 1.47789404, -0.51827022],\n",
       "       [-0.8084936 , -0.50175704],\n",
       "       [ 0.91540212,  0.32875111],\n",
       "       [-0.5297602 ,  0.51326743],\n",
       "       [ 0.09707755,  0.96864499],\n",
       "       [-0.70205309, -0.32766215],\n",
       "       [-0.39210815, -1.46351495],\n",
       "       [ 0.29612028,  0.26105527],\n",
       "       [ 0.00511346, -0.23458713],\n",
       "       [-1.41537074, -0.42064532],\n",
       "       [-0.34271452, -0.80227727],\n",
       "       [-0.16128571,  0.40405086],\n",
       "       [ 1.8861859 ,  0.17457781],\n",
       "       [ 0.25755039, -0.07444592],\n",
       "       [-1.91877122, -0.02651388],\n",
       "       [ 0.06023021,  2.46324211],\n",
       "       [-0.19236096,  0.30154734],\n",
       "       [-0.03471177, -1.16867804],\n",
       "       [ 1.14282281,  0.75193303],\n",
       "       [ 0.79103195, -0.90938745],\n",
       "       [ 1.40279431, -1.40185106],\n",
       "       [ 0.58685709,  2.19045563],\n",
       "       [-0.99053633, -0.56629773],\n",
       "       [ 0.09965137, -0.50347565],\n",
       "       [-1.55066343,  0.06856297],\n",
       "       [-1.06230371,  0.47359243],\n",
       "       [-0.91942423,  1.54993441],\n",
       "       [-0.78325329, -0.32206152],\n",
       "       [ 0.81351722, -1.23086432],\n",
       "       [ 0.22745993,  1.30714275],\n",
       "       [-1.60748323,  0.18463386],\n",
       "       [ 0.25988279,  0.78182287],\n",
       "       [-1.23695071, -1.32045661],\n",
       "       [ 0.52194157,  0.29698467],\n",
       "       [ 0.25049285,  0.34644821],\n",
       "       [-0.68002472,  0.2322537 ],\n",
       "       [ 0.29307247, -0.71435142],\n",
       "       [ 1.86577451,  0.47383292],\n",
       "       [-1.1913035 ,  0.65655361],\n",
       "       [-0.97468167,  0.7870846 ],\n",
       "       [ 1.15859558, -0.82068232],\n",
       "       [ 0.96337613,  0.41278093],\n",
       "       [ 0.82206016,  1.89679298],\n",
       "       [-0.24538812, -0.75373616],\n",
       "       [-0.88951443, -0.81581028],\n",
       "       [-0.07710171,  0.34115197],\n",
       "       [ 0.2766908 ,  0.82718325],\n",
       "       [ 0.01300189,  1.45353408],\n",
       "       [-0.26465683,  2.72016917],\n",
       "       [ 0.62566735, -0.85715756],\n",
       "       [-1.0708925 ,  0.48247242],\n",
       "       [-0.22346279,  0.71400049],\n",
       "       [ 0.47323762, -0.07282891],\n",
       "       [-0.84679372, -1.51484722],\n",
       "       [-0.44651495,  0.85639879],\n",
       "       [ 0.21409374, -1.24573878],\n",
       "       [ 0.17318093,  0.38531738],\n",
       "       [-0.88385744,  0.15372511],\n",
       "       [ 0.05820872, -1.1429703 ],\n",
       "       [ 3.01898458,  1.92614894],\n",
       "       [ 1.57612593,  1.61987267],\n",
       "       [-1.12407079, -1.65126525],\n",
       "       [ 2.47488924,  2.48090716],\n",
       "       [ 2.93657855,  3.30592442],\n",
       "       [ 0.09073919,  0.01213036],\n",
       "       [ 2.38636143,  1.19971145],\n",
       "       [ 1.61573502,  2.36634136],\n",
       "       [ 3.12004273, -1.29603875],\n",
       "       [-0.99533638, -3.24814448]])"
      ]
     },
     "execution_count": 7,
     "metadata": {},
     "output_type": "execute_result"
    }
   ],
   "source": [
    "# Combine normal and anomalous data\n",
    "# stacks them vertically, resulting in 110 rows and 2 columns\n",
    "# The first 100 rows in X are normal data, the last 10 rows are anomalies\n",
    "X = np.vstack([normal_data, anomaly_data])\n",
    "X"
   ]
  },
  {
   "cell_type": "code",
   "execution_count": 8,
   "id": "f5a675e6",
   "metadata": {},
   "outputs": [
    {
     "name": "stdout",
     "output_type": "stream",
     "text": [
      "Shape of combined X: (110, 2)\n"
     ]
    }
   ],
   "source": [
    "print(\"Shape of combined X:\", X.shape)"
   ]
  },
  {
   "cell_type": "code",
   "execution_count": 9,
   "id": "bfe43fc8",
   "metadata": {},
   "outputs": [
    {
     "data": {
      "image/png": "[encoded data removed]",
      "text/plain": [
       "<Figure size 1000x800 with 1 Axes>"
      ]
     },
     "metadata": {},
     "output_type": "display_data"
    }
   ],
   "source": [
    "import matplotlib.pyplot as plt\n",
    "\n",
    "# Create a scatter plot to visualize the data\n",
    "plt.figure(figsize=(10, 8))\n",
    "\n",
    "# Plot normal data points (first 100 points)\n",
    "plt.scatter(X[:100, 0], X[:100, 1], c='blue', alpha=0.6, label='Normal Data', s=50)\n",
    "\n",
    "# Plot anomalous data points (last 10 points)\n",
    "plt.scatter(X[100:, 0], X[100:, 1], c='red', alpha=0.8, label='Anomalous Data', s=100, marker='^')\n",
    "\n",
    "plt.xlabel('Feature 1')\n",
    "plt.ylabel('Feature 2')\n",
    "plt.title('Visualization of Normal and Anomalous Data Points')\n",
    "plt.legend()\n",
    "plt.grid(True, alpha=0.3)\n",
    "plt.show()"
   ]
  },
  {
   "cell_type": "code",
   "execution_count": 10,
   "id": "05906254",
   "metadata": {},
   "outputs": [],
   "source": [
    "# True labels (1: Anomaly, 0: Normal)\n",
    "y_true = np.array([0]*100 + [1]*10)  # 100 normal, 10 anomalies\n",
    "\n",
    "# Step 2: Fit Isolation Forest for anomaly detection\n",
    "model = IsolationForest(contamination=0.1, random_state=42)\n",
    "y_pred = model.fit_predict(X)\n",
    "\n",
    "# Convert the output of fit_predict to binary labels (1: Anomaly, 0: Normal)\n",
    "# IsolationForest outputs -1 for anomalies and 1 for normal data\n",
    "y_pred = np.where(y_pred == -1, 1, 0)"
   ]
  },
  {
   "cell_type": "code",
   "execution_count": 12,
   "id": "e89d9ebc",
   "metadata": {},
   "outputs": [
    {
     "name": "stdout",
     "output_type": "stream",
     "text": [
      "Confusion Matrix:\n",
      "[[96  4]\n",
      " [ 3  7]]\n"
     ]
    }
   ],
   "source": [
    "# Step 3: Generate confusion matrix\n",
    "conf_matrix = confusion_matrix(y_true, y_pred)\n",
    "print(\"Confusion Matrix:\")\n",
    "print(conf_matrix)\n",
    "\n"
   ]
  },
  {
   "cell_type": "code",
   "execution_count": 13,
   "id": "8bfd3f5c",
   "metadata": {},
   "outputs": [
    {
     "data": {
      "image/png": "[encoded data removed]",
      "text/plain": [
       "<Figure size 800x600 with 2 Axes>"
      ]
     },
     "metadata": {},
     "output_type": "display_data"
    }
   ],
   "source": [
    "import seaborn as sns\n",
    "\n",
    "# Visualize the confusion matrix using a heatmap\n",
    "\n",
    "plt.figure(figsize=(8, 6))\n",
    "sns.heatmap(conf_matrix, annot=True, fmt='d', cmap='Blues', \n",
    "            xticklabels=['Normal', 'Anomaly'], \n",
    "            yticklabels=['Normal', 'Anomaly'])\n",
    "plt.title('Confusion Matrix Heatmap')\n",
    "plt.xlabel('Predicted')\n",
    "plt.ylabel('Actual')\n",
    "plt.show()"
   ]
  },
  {
   "cell_type": "code",
   "execution_count": 14,
   "id": "c74c2586",
   "metadata": {},
   "outputs": [
    {
     "name": "stdout",
     "output_type": "stream",
     "text": [
      "\n",
      "Classification Report:\n",
      "              precision    recall  f1-score   support\n",
      "\n",
      "           0       0.97      0.96      0.96       100\n",
      "           1       0.64      0.70      0.67        10\n",
      "\n",
      "    accuracy                           0.94       110\n",
      "   macro avg       0.80      0.83      0.82       110\n",
      "weighted avg       0.94      0.94      0.94       110\n",
      "\n"
     ]
    }
   ],
   "source": [
    "# Step 4: Additional metrics\n",
    "print(\"\\nClassification Report:\")\n",
    "print(classification_report(y_true, y_pred))"
   ]
  }
 ],
 "metadata": {
  "kernelspec": {
   "display_name": "Python 3 (ipykernel)",
   "language": "python",
   "name": "python3"
  },
  "language_info": {
   "codemirror_mode": {
    "name": "ipython",
    "version": 3
   },
   "file_extension": ".py",
   "mimetype": "text/x-python",
   "name": "python",
   "nbconvert_exporter": "python",
   "pygments_lexer": "ipython3",
   "version": "3.12.7"
  }
 },
 "nbformat": 4,
 "nbformat_minor": 5
}
