{
 "cells": [
  {
   "cell_type": "code",
   "execution_count": 1,
   "id": "993caa07",
   "metadata": {},
   "outputs": [],
   "source": [
    "import numpy as np\n",
    "import pandas as pd\n",
    "import matplotlib.pyplot as plt"
   ]
  },
  {
   "cell_type": "code",
   "execution_count": 18,
   "id": "79516d6f",
   "metadata": {},
   "outputs": [
    {
     "data": {
      "text/plain": [
       "array([ 5.99342831e+01,  4.72347140e+01,  6.29537708e+01,  8.04605971e+01,\n",
       "        4.53169325e+01,  4.53172609e+01,  8.15842563e+01,  6.53486946e+01,\n",
       "        4.06105123e+01,  6.08512009e+01,  4.07316461e+01,  4.06854049e+01,\n",
       "        5.48392454e+01,  1.17343951e+01,  1.55016433e+01,  4.00000000e+03,\n",
       "        2.97433776e+01,  5.62849467e+01,  3.18395185e+01,  2.17539260e+01,\n",
       "        7.93129754e+01,  4.54844740e+01,  5.13505641e+01,  2.15050363e+01,\n",
       "        3.91123455e+01,  5.22184518e+01,  2.69801285e+01,  5.75139604e+01,\n",
       "        3.79872262e+01,  4.41661250e+01,  1.50000000e+02,  8.70455637e+01,\n",
       "        4.97300555e+01,  2.88457814e+01,  6.64508982e+01,  2.55831270e+01,\n",
       "        5.41772719e+01,  1.08065975e+01,  2.34362790e+01,  5.39372247e+01,\n",
       "        6.47693316e+01,  5.34273656e+01,  4.76870344e+01,  4.39779261e+01,\n",
       "        2.04295602e+01,  3.56031158e+01,  4.07872246e+01,  7.11424445e+01,\n",
       "        5.68723658e+01,  1.47391969e+01,  5.64816794e+01,  4.22983544e+01,\n",
       "        3.64615600e+01,  6.22335258e+01,  7.06199904e+01,  6.86256024e+01,\n",
       "        3.32156495e+01,  4.38157525e+01,  5.66252686e+01,  6.95109025e+01,\n",
       "       -1.00000000e+02,  4.62868205e+01,  2.78733005e+01,  2.60758675e+01,\n",
       "        6.62505164e+01,  7.71248006e+01,  4.85597976e+01,  7.00706580e+01,\n",
       "        5.72327205e+01,  3.70976049e+01,  5.72279121e+01,  8.07607313e+01,\n",
       "        4.92834792e+01,  8.12928731e+01, -2.39490208e+00, -2.00000000e+02,\n",
       "        5.17409414e+01,  4.40198530e+01,  5.18352155e+01,  1.02486217e+01,\n",
       "        4.56065622e+01,  5.71422514e+01,  7.95578809e+01,  3.96345956e+01,\n",
       "        3.38301279e+01,  3.99648591e+01,  6.83080424e+01,  5.65750222e+01,\n",
       "        3.94047959e+01,  6.02653487e+01,  5.19415510e+01,  6.93728998e+01,\n",
       "        3.59589381e+01,  4.34467571e+01,  4.21578369e+01,  2.07297010e+01,\n",
       "        5.59224055e+01,  5.52211054e+01,  5.01022691e+01,  4.53082573e+01])"
      ]
     },
     "execution_count": 18,
     "metadata": {},
     "output_type": "execute_result"
    }
   ],
   "source": [
    "# Example time series data (could be any time-based data)\n",
    "np.random.seed(42)\n",
    "data = np.random.randn(100) * 20 + 50  # Simulated data (normal distribution)\n",
    "data[30] = 150  # Injecting an anomaly at index 30\n",
    "data[15] = 4000  # Injecting an anomaly at index 15\n",
    "data[60] = -100  # Injecting an anomaly at index 60\n",
    "data[75] = -200  # Injecting an anomaly at index 75\n",
    "data"
   ]
  },
  {
   "cell_type": "code",
   "execution_count": 19,
   "id": "07fcb2f7",
   "metadata": {},
   "outputs": [],
   "source": [
    "# Create a DataFrame\n",
    "df = pd.DataFrame(data, columns=['Value'])"
   ]
  },
  {
   "cell_type": "code",
   "execution_count": 20,
   "id": "b7be65ef",
   "metadata": {},
   "outputs": [],
   "source": [
    "# Calculate rolling mean and rolling standard deviation\n",
    "window_size = 10  # You can adjust this based on your data's seasonality\n",
    "df['Rolling_Mean'] = df['Value'].rolling(window=window_size).mean()\n",
    "df['Rolling_Std'] = df['Value'].rolling(window=window_size).std()"
   ]
  },
  {
   "cell_type": "code",
   "execution_count": 21,
   "id": "118cf0af",
   "metadata": {},
   "outputs": [
    {
     "data": {
      "application/vnd.microsoft.datawrangler.viewer.v0+json": {
       "columns": [
        {
         "name": "index",
         "rawType": "int64",
         "type": "integer"
        },
        {
         "name": "Value",
         "rawType": "float64",
         "type": "float"
        },
        {
         "name": "Rolling_Mean",
         "rawType": "float64",
         "type": "float"
        },
        {
         "name": "Rolling_Std",
         "rawType": "float64",
         "type": "float"
        }
       ],
       "ref": "5ff7cfc5-ca8d-4e74-a24f-0a6ef676540c",
       "rows": [
        [
         "0",
         "59.93428306022466",
         null,
         null
        ],
        [
         "1",
         "47.23471397657631",
         null,
         null
        ],
        [
         "2",
         "62.953770762013846",
         null,
         null
        ],
        [
         "3",
         "80.46059712816052",
         null,
         null
        ],
        [
         "4",
         "45.31693250553328",
         null,
         null
        ],
        [
         "5",
         "45.317260861016386",
         null,
         null
        ],
        [
         "6",
         "81.58425631014782",
         null,
         null
        ],
        [
         "7",
         "65.34869458305818",
         null,
         null
        ],
        [
         "8",
         "40.610512281300956",
         null,
         null
        ],
        [
         "9",
         "60.85120087171929",
         "58.96122223397513",
         "14.460166668981943"
        ],
        [
         "10",
         "40.73164614375075",
         "57.040958542327736",
         "15.550506427822475"
        ],
        [
         "11",
         "40.68540492859486",
         "56.38602763752958",
         "16.136282816075965"
        ],
        [
         "12",
         "54.839245431320684",
         "55.574575104460266",
         "15.972508817734596"
        ],
        [
         "13",
         "11.73439510684404",
         "48.70195490232862",
         "18.63809583450371"
        ],
        [
         "14",
         "15.501643349739346",
         "45.720425986749234",
         "21.417320900106184"
        ],
        [
         "15",
         "4000.0",
         "441.1886999006476",
         "1250.6222249079217"
        ],
        [
         "16",
         "29.743377593311525",
         "436.00461202896395",
         "1252.3846895081888"
        ],
        [
         "17",
         "56.28494665190548",
         "435.09823723584867",
         "1252.685989500359"
        ],
        [
         "18",
         "31.83951848957578",
         "434.22113785667625",
         "1252.9959222548841"
        ],
        [
         "19",
         "21.75392597329417",
         "430.3114103668337",
         "1254.350662562133"
        ],
        [
         "20",
         "79.31297537843108",
         "434.1695432903017",
         "1253.077940238276"
        ],
        [
         "21",
         "45.48447399026929",
         "434.6494501964692",
         "1252.911406447414"
        ],
        [
         "22",
         "51.35056409375848",
         "434.300582062713",
         "1253.029393953728"
        ],
        [
         "23",
         "21.505036275730866",
         "435.2776461796017",
         "1252.667038882714"
        ],
        [
         "24",
         "39.11234550949635",
         "437.63871639557726",
         "1251.8098763659607"
        ],
        [
         "25",
         "52.21845179419732",
         "42.860561574997035",
         "17.90297713443043"
        ],
        [
         "26",
         "26.980128451553945",
         "42.584236660821276",
         "18.14758446883119"
        ],
        [
         "27",
         "57.51396036691344",
         "42.70713803232208",
         "18.254526217076975"
        ],
        [
         "28",
         "37.9872262016239",
         "43.32190880352688",
         "17.948823944271115"
        ],
        [
         "29",
         "44.166125004134464",
         "45.56312870661091",
         "16.27795605491029"
        ],
        [
         "30",
         "150.0",
         "52.6318311687678",
         "35.983158205727655"
        ],
        [
         "31",
         "87.04556369017875",
         "56.78794013875874",
         "37.43672724869645"
        ],
        [
         "32",
         "49.730055505241324",
         "56.62588927990703",
         "37.466374548499964"
        ],
        [
         "33",
         "28.84578142088199",
         "57.35996379442214",
         "36.76718709100681"
        ],
        [
         "34",
         "66.45089824206377",
         "60.093819067678886",
         "36.27267764029943"
        ],
        [
         "35",
         "25.583127000579555",
         "57.43028658831711",
         "37.85848898397159"
        ],
        [
         "36",
         "54.17727190009511",
         "60.15000093317123",
         "36.37579812973537"
        ],
        [
         "37",
         "10.806597522404488",
         "55.47926464872033",
         "39.60703245928708"
        ],
        [
         "38",
         "23.43627902203139",
         "54.02416993076108",
         "40.57648702626567"
        ],
        [
         "39",
         "53.93722471738247",
         "55.00127990208589",
         "40.43010534692141"
        ],
        [
         "40",
         "64.76933159990821",
         "46.478213062076705",
         "23.700848778531427"
        ],
        [
         "41",
         "53.42736562379941",
         "43.11639325543877",
         "19.279046067989718"
        ],
        [
         "42",
         "47.68703435223519",
         "42.91209114013816",
         "19.211881143833672"
        ],
        [
         "43",
         "43.977926088214225",
         "44.42530560687138",
         "18.565931010435687"
        ],
        [
         "44",
         "20.42956019265145",
         "39.823171801930144",
         "18.199868314618552"
        ],
        [
         "45",
         "35.60311583210583",
         "40.825170685082774",
         "17.594528312488684"
        ],
        [
         "46",
         "40.78722458080425",
         "39.486165953153694",
         "16.963687803921726"
        ],
        [
         "47",
         "71.1424445243783",
         "45.519750653351075",
         "16.348500506980553"
        ],
        [
         "48",
         "56.872365791369226",
         "48.86335933028486",
         "14.662371267888721"
        ],
        [
         "49",
         "14.73919689274532",
         "44.94355654782114",
         "18.012131696719713"
        ]
       ],
       "shape": {
        "columns": 3,
        "rows": 100
       }
      },
      "text/html": [
       "<div>\n",
       "<style scoped>\n",
       "    .dataframe tbody tr th:only-of-type {\n",
       "        vertical-align: middle;\n",
       "    }\n",
       "\n",
       "    .dataframe tbody tr th {\n",
       "        vertical-align: top;\n",
       "    }\n",
       "\n",
       "    .dataframe thead th {\n",
       "        text-align: right;\n",
       "    }\n",
       "</style>\n",
       "<table border=\"1\" class=\"dataframe\">\n",
       "  <thead>\n",
       "    <tr style=\"text-align: right;\">\n",
       "      <th></th>\n",
       "      <th>Value</th>\n",
       "      <th>Rolling_Mean</th>\n",
       "      <th>Rolling_Std</th>\n",
       "    </tr>\n",
       "  </thead>\n",
       "  <tbody>\n",
       "    <tr>\n",
       "      <th>0</th>\n",
       "      <td>59.934283</td>\n",
       "      <td>NaN</td>\n",
       "      <td>NaN</td>\n",
       "    </tr>\n",
       "    <tr>\n",
       "      <th>1</th>\n",
       "      <td>47.234714</td>\n",
       "      <td>NaN</td>\n",
       "      <td>NaN</td>\n",
       "    </tr>\n",
       "    <tr>\n",
       "      <th>2</th>\n",
       "      <td>62.953771</td>\n",
       "      <td>NaN</td>\n",
       "      <td>NaN</td>\n",
       "    </tr>\n",
       "    <tr>\n",
       "      <th>3</th>\n",
       "      <td>80.460597</td>\n",
       "      <td>NaN</td>\n",
       "      <td>NaN</td>\n",
       "    </tr>\n",
       "    <tr>\n",
       "      <th>4</th>\n",
       "      <td>45.316933</td>\n",
       "      <td>NaN</td>\n",
       "      <td>NaN</td>\n",
       "    </tr>\n",
       "    <tr>\n",
       "      <th>...</th>\n",
       "      <td>...</td>\n",
       "      <td>...</td>\n",
       "      <td>...</td>\n",
       "    </tr>\n",
       "    <tr>\n",
       "      <th>95</th>\n",
       "      <td>20.729701</td>\n",
       "      <td>48.816089</td>\n",
       "      <td>15.345864</td>\n",
       "    </tr>\n",
       "    <tr>\n",
       "      <th>96</th>\n",
       "      <td>55.922406</td>\n",
       "      <td>47.577526</td>\n",
       "      <td>14.042329</td>\n",
       "    </tr>\n",
       "    <tr>\n",
       "      <th>97</th>\n",
       "      <td>55.221105</td>\n",
       "      <td>47.442134</td>\n",
       "      <td>13.952176</td>\n",
       "    </tr>\n",
       "    <tr>\n",
       "      <th>98</th>\n",
       "      <td>50.102269</td>\n",
       "      <td>48.511881</td>\n",
       "      <td>13.674806</td>\n",
       "    </tr>\n",
       "    <tr>\n",
       "      <th>99</th>\n",
       "      <td>45.308257</td>\n",
       "      <td>47.016172</td>\n",
       "      <td>13.050120</td>\n",
       "    </tr>\n",
       "  </tbody>\n",
       "</table>\n",
       "<p>100 rows × 3 columns</p>\n",
       "</div>"
      ],
      "text/plain": [
       "        Value  Rolling_Mean  Rolling_Std\n",
       "0   59.934283           NaN          NaN\n",
       "1   47.234714           NaN          NaN\n",
       "2   62.953771           NaN          NaN\n",
       "3   80.460597           NaN          NaN\n",
       "4   45.316933           NaN          NaN\n",
       "..        ...           ...          ...\n",
       "95  20.729701     48.816089    15.345864\n",
       "96  55.922406     47.577526    14.042329\n",
       "97  55.221105     47.442134    13.952176\n",
       "98  50.102269     48.511881    13.674806\n",
       "99  45.308257     47.016172    13.050120\n",
       "\n",
       "[100 rows x 3 columns]"
      ]
     },
     "execution_count": 21,
     "metadata": {},
     "output_type": "execute_result"
    }
   ],
   "source": [
    "df"
   ]
  },
  {
   "cell_type": "code",
   "execution_count": 22,
   "id": "0bcf3dce",
   "metadata": {},
   "outputs": [],
   "source": [
    "# Calculate Z-score\n",
    "df['Z-Score'] = (df['Value'] - df['Rolling_Mean']) / df['Rolling_Std']\n",
    "\n",
    "# Set a Z-score threshold for anomaly detection (typically, threshold > 3 or < -3)\n",
    "threshold = 3\n",
    "df['Anomaly'] = df['Z-Score'].apply(lambda x: 1 if abs(x) > threshold else 0)"
   ]
  },
  {
   "cell_type": "code",
   "execution_count": 10,
   "id": "2a25f615",
   "metadata": {},
   "outputs": [
    {
     "data": {
      "application/vnd.microsoft.datawrangler.viewer.v0+json": {
       "columns": [
        {
         "name": "index",
         "rawType": "int64",
         "type": "integer"
        },
        {
         "name": "Value",
         "rawType": "float64",
         "type": "float"
        },
        {
         "name": "Rolling_Mean",
         "rawType": "float64",
         "type": "float"
        },
        {
         "name": "Rolling_Std",
         "rawType": "float64",
         "type": "float"
        },
        {
         "name": "Z-Score",
         "rawType": "float64",
         "type": "float"
        },
        {
         "name": "Anomaly",
         "rawType": "int64",
         "type": "integer"
        }
       ],
       "ref": "4a2dc07a-ed10-43a1-8b24-23b19e8d28bb",
       "rows": [
        [
         "0",
         "59.93428306022466",
         null,
         null,
         null,
         "0"
        ],
        [
         "1",
         "47.23471397657631",
         null,
         null,
         null,
         "0"
        ],
        [
         "2",
         "62.953770762013846",
         null,
         null,
         null,
         "0"
        ],
        [
         "3",
         "80.46059712816052",
         null,
         null,
         null,
         "0"
        ],
        [
         "4",
         "45.31693250553328",
         null,
         null,
         null,
         "0"
        ],
        [
         "5",
         "45.317260861016386",
         null,
         null,
         null,
         "0"
        ],
        [
         "6",
         "81.58425631014782",
         null,
         null,
         null,
         "0"
        ],
        [
         "7",
         "65.34869458305818",
         null,
         null,
         null,
         "0"
        ],
        [
         "8",
         "40.610512281300956",
         null,
         null,
         null,
         "0"
        ],
        [
         "9",
         "60.85120087171929",
         "58.96122223397513",
         "14.460166668981943",
         "0.13070241035314614",
         "0"
        ],
        [
         "10",
         "40.73164614375075",
         "57.040958542327736",
         "15.550506427822475",
         "-1.048796222443076",
         "0"
        ],
        [
         "11",
         "40.68540492859486",
         "56.38602763752958",
         "16.136282816075965",
         "-0.9730012102473057",
         "0"
        ],
        [
         "12",
         "54.839245431320684",
         "55.574575104460266",
         "15.972508817734596",
         "-0.04603720564693821",
         "0"
        ],
        [
         "13",
         "11.73439510684404",
         "48.70195490232862",
         "18.63809583450371",
         "-1.9834408044543113",
         "0"
        ],
        [
         "14",
         "15.501643349739346",
         "45.720425986749234",
         "21.417320900106184",
         "-1.4109506402763974",
         "0"
        ],
        [
         "15",
         "38.754249415180546",
         "45.06412484216565",
         "21.531301433615653",
         "-0.29305592355573246",
         "0"
        ],
        [
         "16",
         "29.743377593311525",
         "39.88003697048202",
         "17.652919481673944",
         "-0.5742199973037706",
         "0"
        ],
        [
         "17",
         "56.28494665190548",
         "38.97366217736675",
         "16.387269735482857",
         "1.056386131062158",
         "0"
        ],
        [
         "18",
         "31.83951848957578",
         "38.09656279819423",
         "16.52408067416595",
         "-0.37866217382978673",
         "0"
        ],
        [
         "19",
         "21.75392597329417",
         "34.18683530835172",
         "15.106494972627805",
         "-0.8230174741119858",
         "0"
        ],
        [
         "20",
         "79.31297537843108",
         "38.04496823181975",
         "20.812757266809133",
         "1.982822680223294",
         "0"
        ],
        [
         "21",
         "45.48447399026929",
         "38.524875137987195",
         "20.935374154814046",
         "0.33243250399142005",
         "0"
        ],
        [
         "22",
         "51.35056409375848",
         "38.176007004230975",
         "20.660567778562537",
         "0.6376667490811875",
         "0"
        ],
        [
         "23",
         "21.505036275730866",
         "39.15307112111966",
         "19.467772316793344",
         "-0.9065256444449576",
         "0"
        ],
        [
         "24",
         "39.11234550949635",
         "41.51414133709535",
         "17.625147842120658",
         "-0.13627096062474892",
         "0"
        ],
        [
         "25",
         "52.21845179419732",
         "42.860561574997035",
         "17.902977134421448",
         "0.5227002273944811",
         "0"
        ],
        [
         "26",
         "26.980128451553945",
         "42.584236660821276",
         "18.147584468822334",
         "-0.8598449141303234",
         "0"
        ],
        [
         "27",
         "57.51396036691344",
         "42.70713803232208",
         "18.25452621706817",
         "0.8111315603878465",
         "0"
        ],
        [
         "28",
         "37.9872262016239",
         "43.32190880352688",
         "17.948823944262163",
         "-0.2972162754768321",
         "0"
        ],
        [
         "29",
         "44.166125004134464",
         "45.56312870661091",
         "16.27795605490042",
         "-0.0858218131173713",
         "0"
        ],
        [
         "30",
         "150.0",
         "52.6318311687678",
         "35.9831582057232",
         "2.7059372686121135",
         "0"
        ],
        [
         "31",
         "87.04556369017875",
         "56.78794013875874",
         "37.436727248692165",
         "0.8082336725221366",
         "0"
        ],
        [
         "32",
         "49.730055505241324",
         "56.62588927990703",
         "37.46637454849568",
         "-0.18405393790477068",
         "0"
        ],
        [
         "33",
         "28.84578142088199",
         "57.35996379442214",
         "36.76718709100245",
         "-0.7755334206819986",
         "0"
        ],
        [
         "34",
         "66.45089824206377",
         "60.093819067678886",
         "36.27267764029501",
         "0.17525806165803598",
         "0"
        ],
        [
         "35",
         "25.583127000579555",
         "57.43028658831711",
         "37.858488983967355",
         "-0.8412158129508145",
         "0"
        ],
        [
         "36",
         "54.17727190009511",
         "60.15000093317123",
         "36.37579812973097",
         "-0.16419513358235954",
         "0"
        ],
        [
         "37",
         "10.806597522404488",
         "55.47926464872033",
         "39.60703245928303",
         "-1.1278973543963537",
         "0"
        ],
        [
         "38",
         "23.43627902203139",
         "54.02416993076108",
         "40.57648702626171",
         "-0.7538329005399791",
         "0"
        ],
        [
         "39",
         "53.93722471738247",
         "55.00127990208589",
         "40.43010534691744",
         "-0.026318387636468234",
         "0"
        ],
        [
         "40",
         "64.76933159990821",
         "46.478213062076705",
         "23.700848778524644",
         "0.7717495144901774",
         "0"
        ],
        [
         "41",
         "53.42736562379941",
         "43.11639325543877",
         "19.279046067981373",
         "0.5348279334984885",
         "0"
        ],
        [
         "42",
         "47.68703435223519",
         "42.91209114013816",
         "19.2118811438253",
         "0.24854115931441184",
         "0"
        ],
        [
         "43",
         "43.977926088214225",
         "44.42530560687138",
         "18.565931010427025",
         "-0.024096799584459292",
         "0"
        ],
        [
         "44",
         "20.42956019265145",
         "39.823171801930144",
         "18.19986831460971",
         "-1.0655907654953043",
         "0"
        ],
        [
         "45",
         "35.60311583210583",
         "40.825170685082774",
         "17.59452831247954",
         "-0.2967999346292801",
         "0"
        ],
        [
         "46",
         "40.78722458080425",
         "39.486165953153694",
         "16.96368780391224",
         "0.07669668545482776",
         "0"
        ],
        [
         "47",
         "71.1424445243783",
         "45.519750653351075",
         "16.348500506970723",
         "1.5672809784666275",
         "0"
        ],
        [
         "48",
         "56.872365791369226",
         "48.86335933028486",
         "14.662371267877766",
         "0.5462285952771125",
         "0"
        ],
        [
         "49",
         "14.73919689274532",
         "44.94355654782114",
         "18.01213169671079",
         "-1.6768897853767895",
         "0"
        ]
       ],
       "shape": {
        "columns": 5,
        "rows": 100
       }
      },
      "text/html": [
       "<div>\n",
       "<style scoped>\n",
       "    .dataframe tbody tr th:only-of-type {\n",
       "        vertical-align: middle;\n",
       "    }\n",
       "\n",
       "    .dataframe tbody tr th {\n",
       "        vertical-align: top;\n",
       "    }\n",
       "\n",
       "    .dataframe thead th {\n",
       "        text-align: right;\n",
       "    }\n",
       "</style>\n",
       "<table border=\"1\" class=\"dataframe\">\n",
       "  <thead>\n",
       "    <tr style=\"text-align: right;\">\n",
       "      <th></th>\n",
       "      <th>Value</th>\n",
       "      <th>Rolling_Mean</th>\n",
       "      <th>Rolling_Std</th>\n",
       "      <th>Z-Score</th>\n",
       "      <th>Anomaly</th>\n",
       "    </tr>\n",
       "  </thead>\n",
       "  <tbody>\n",
       "    <tr>\n",
       "      <th>0</th>\n",
       "      <td>59.934283</td>\n",
       "      <td>NaN</td>\n",
       "      <td>NaN</td>\n",
       "      <td>NaN</td>\n",
       "      <td>0</td>\n",
       "    </tr>\n",
       "    <tr>\n",
       "      <th>1</th>\n",
       "      <td>47.234714</td>\n",
       "      <td>NaN</td>\n",
       "      <td>NaN</td>\n",
       "      <td>NaN</td>\n",
       "      <td>0</td>\n",
       "    </tr>\n",
       "    <tr>\n",
       "      <th>2</th>\n",
       "      <td>62.953771</td>\n",
       "      <td>NaN</td>\n",
       "      <td>NaN</td>\n",
       "      <td>NaN</td>\n",
       "      <td>0</td>\n",
       "    </tr>\n",
       "    <tr>\n",
       "      <th>3</th>\n",
       "      <td>80.460597</td>\n",
       "      <td>NaN</td>\n",
       "      <td>NaN</td>\n",
       "      <td>NaN</td>\n",
       "      <td>0</td>\n",
       "    </tr>\n",
       "    <tr>\n",
       "      <th>4</th>\n",
       "      <td>45.316933</td>\n",
       "      <td>NaN</td>\n",
       "      <td>NaN</td>\n",
       "      <td>NaN</td>\n",
       "      <td>0</td>\n",
       "    </tr>\n",
       "    <tr>\n",
       "      <th>...</th>\n",
       "      <td>...</td>\n",
       "      <td>...</td>\n",
       "      <td>...</td>\n",
       "      <td>...</td>\n",
       "      <td>...</td>\n",
       "    </tr>\n",
       "    <tr>\n",
       "      <th>95</th>\n",
       "      <td>20.729701</td>\n",
       "      <td>48.816089</td>\n",
       "      <td>15.345864</td>\n",
       "      <td>-1.830225</td>\n",
       "      <td>0</td>\n",
       "    </tr>\n",
       "    <tr>\n",
       "      <th>96</th>\n",
       "      <td>55.922406</td>\n",
       "      <td>47.577526</td>\n",
       "      <td>14.042329</td>\n",
       "      <td>0.594266</td>\n",
       "      <td>0</td>\n",
       "    </tr>\n",
       "    <tr>\n",
       "      <th>97</th>\n",
       "      <td>55.221105</td>\n",
       "      <td>47.442134</td>\n",
       "      <td>13.952176</td>\n",
       "      <td>0.557545</td>\n",
       "      <td>0</td>\n",
       "    </tr>\n",
       "    <tr>\n",
       "      <th>98</th>\n",
       "      <td>50.102269</td>\n",
       "      <td>48.511881</td>\n",
       "      <td>13.674806</td>\n",
       "      <td>0.116301</td>\n",
       "      <td>0</td>\n",
       "    </tr>\n",
       "    <tr>\n",
       "      <th>99</th>\n",
       "      <td>45.308257</td>\n",
       "      <td>47.016172</td>\n",
       "      <td>13.050120</td>\n",
       "      <td>-0.130873</td>\n",
       "      <td>0</td>\n",
       "    </tr>\n",
       "  </tbody>\n",
       "</table>\n",
       "<p>100 rows × 5 columns</p>\n",
       "</div>"
      ],
      "text/plain": [
       "        Value  Rolling_Mean  Rolling_Std   Z-Score  Anomaly\n",
       "0   59.934283           NaN          NaN       NaN        0\n",
       "1   47.234714           NaN          NaN       NaN        0\n",
       "2   62.953771           NaN          NaN       NaN        0\n",
       "3   80.460597           NaN          NaN       NaN        0\n",
       "4   45.316933           NaN          NaN       NaN        0\n",
       "..        ...           ...          ...       ...      ...\n",
       "95  20.729701     48.816089    15.345864 -1.830225        0\n",
       "96  55.922406     47.577526    14.042329  0.594266        0\n",
       "97  55.221105     47.442134    13.952176  0.557545        0\n",
       "98  50.102269     48.511881    13.674806  0.116301        0\n",
       "99  45.308257     47.016172    13.050120 -0.130873        0\n",
       "\n",
       "[100 rows x 5 columns]"
      ]
     },
     "execution_count": 10,
     "metadata": {},
     "output_type": "execute_result"
    }
   ],
   "source": [
    "df"
   ]
  },
  {
   "cell_type": "code",
   "execution_count": null,
   "id": "94732fcc",
   "metadata": {},
   "outputs": [],
   "source": []
  },
  {
   "cell_type": "code",
   "execution_count": null,
   "id": "5efcca74",
   "metadata": {},
   "outputs": [],
   "source": []
  },
  {
   "cell_type": "code",
   "execution_count": null,
   "id": "106c18aa",
   "metadata": {},
   "outputs": [],
   "source": []
  },
  {
   "cell_type": "code",
   "execution_count": 24,
   "id": "c2fbd362",
   "metadata": {},
   "outputs": [
    {
     "data": {
      "image/png": "[encoded data removed]",
      "text/plain": [
       "<Figure size 1400x800 with 1 Axes>"
      ]
     },
     "metadata": {},
     "output_type": "display_data"
    }
   ],
   "source": [
    "# Plot the results\n",
    "plt.figure(figsize=(14, 8))\n",
    "\n",
    "# Plot the time series data\n",
    "plt.plot(df['Value'], label='Time Series Data', color='blue', linewidth=1.5, alpha=0.8)\n",
    "\n",
    "# Plot the rolling mean\n",
    "plt.plot(df['Rolling_Mean'], label='Rolling Mean', linestyle='--', color='orange', linewidth=2)\n",
    "\n",
    "# Plot confidence bands (rolling mean ± threshold * rolling std)\n",
    "upper_band = df['Rolling_Mean'] + threshold * df['Rolling_Std']\n",
    "lower_band = df['Rolling_Mean'] - threshold * df['Rolling_Std']\n",
    "plt.fill_between(df.index, upper_band, lower_band, alpha=0.2, color='gray', label=f'±{threshold}σ Confidence Band')\n",
    "\n",
    "# Highlight anomalies with prominent red dots\n",
    "anomaly_indices = df.index[df['Anomaly'] == 1]\n",
    "anomaly_values = df['Value'][df['Anomaly'] == 1]\n",
    "plt.scatter(anomaly_indices, anomaly_values, \n",
    "           color='red', s=100, marker='o', edgecolors='darkred', \n",
    "           linewidth=2, label='Anomalies', zorder=5)\n",
    "\n",
    "# Add annotations for each anomaly\n",
    "for idx, val in zip(anomaly_indices, anomaly_values):\n",
    "    plt.annotate(f'Anomaly\\n({idx}, {val:.1f})', \n",
    "                xy=(idx, val), xytext=(10, 10), \n",
    "                textcoords='offset points', \n",
    "                bbox=dict(boxstyle='round,pad=0.3', facecolor='red', alpha=0.7),\n",
    "                arrowprops=dict(arrowstyle='->', connectionstyle='arc3,rad=0'),\n",
    "                fontsize=9, color='white', weight='bold')\n",
    "\n",
    "plt.title('Z-Score Anomaly Detection in Time Series', fontsize=16, fontweight='bold')\n",
    "plt.xlabel('Time Index', fontsize=12)\n",
    "plt.ylabel('Value', fontsize=12)\n",
    "plt.legend(fontsize=11)\n",
    "plt.grid(True, alpha=0.3)\n",
    "plt.tight_layout()\n",
    "plt.show()"
   ]
  },
  {
   "cell_type": "code",
   "execution_count": null,
   "id": "8ed291c0",
   "metadata": {},
   "outputs": [],
   "source": []
  },
  {
   "cell_type": "code",
   "execution_count": 25,
   "id": "e7b3a0b1",
   "metadata": {},
   "outputs": [
    {
     "name": "stdout",
     "output_type": "stream",
     "text": [
      "Anomalies detected at indices: []\n"
     ]
    }
   ],
   "source": [
    "# Output the detected anomalies\n",
    "anomalies = df[df['Anomaly'] == 1]\n",
    "print(\"Anomalies detected at indices:\", anomalies.index.tolist())\n"
   ]
  },
  {
   "cell_type": "code",
   "execution_count": null,
   "id": "978c7da5",
   "metadata": {},
   "outputs": [],
   "source": []
  },
  {
   "cell_type": "markdown",
   "id": "34f0a1ea",
   "metadata": {},
   "source": [
    "# Explanation"
   ]
  },
  {
   "cell_type": "markdown",
   "id": "10909cce",
   "metadata": {},
   "source": [
    "Explanation of the Code:\n",
    "\n",
    "    Data Simulation:\n",
    "\n",
    "        We generate random data with a mean of 50 and a standard deviation of 20.\n",
    "\n",
    "        We then inject two anomalies into the time series at indices 30 and 60.\n",
    "\n",
    "    Rolling Mean and Std:\n",
    "\n",
    "        We compute the rolling mean and rolling standard deviation using a window size of 10. You can adjust the window size depending on your time series' seasonality or periodicity.\n",
    "\n",
    "    Z-Score Calculation:\n",
    "\n",
    "        The Z-score is calculated as the difference between the value and the rolling mean, divided by the rolling standard deviation.\n",
    "\n",
    "    Anomaly Detection:\n",
    "\n",
    "        Points with an absolute Z-score greater than 3 are considered anomalies. We use this threshold to flag the anomalies.\n",
    "\n",
    "    Plotting:\n",
    "\n",
    "        The plot visualizes the time series, the rolling mean, and the detected anomalies. Anomalies are marked with red dots.\n",
    "\n",
    "Output:\n",
    "\n",
    "The output includes a plot with anomalies clearly marked, and the indices where anomalies are detected. The threshold for the Z-score can be adjusted based on how sensitive you want the anomaly detection to be.\n",
    "Notes:\n",
    "\n",
    "    Window Size: The window size for the rolling mean and standard deviation should be chosen based on the characteristics of your time series (e.g., if the data has strong seasonality, the window size should reflect that periodicity).\n",
    "\n",
    "    Threshold Tuning: The threshold of 3 is a common default, but you may want to tune it based on your data and the level of anomaly detection sensitivity you desire."
   ]
  }
 ],
 "metadata": {
  "kernelspec": {
   "display_name": "Python 3 (ipykernel)",
   "language": "python",
   "name": "python3"
  },
  "language_info": {
   "codemirror_mode": {
    "name": "ipython",
    "version": 3
   },
   "file_extension": ".py",
   "mimetype": "text/x-python",
   "name": "python",
   "nbconvert_exporter": "python",
   "pygments_lexer": "ipython3",
   "version": "3.12.7"
  }
 },
 "nbformat": 4,
 "nbformat_minor": 5
}
